{
 "cells": [
  {
   "cell_type": "code",
   "execution_count": 6,
   "id": "4bfdcab2",
   "metadata": {},
   "outputs": [
    {
     "name": "stdout",
     "output_type": "stream",
     "text": [
      "Matrix A:\n",
      "[[1 2]\n",
      " [3 4]]\n",
      "Matrix B:\n",
      "[[5 6]\n",
      " [7 8]]\n",
      "addition:\n",
      "[[ 6  8]\n",
      " [10 12]]\n",
      "\n",
      " substraction\n",
      "[[-4 -4]\n",
      " [-4 -4]]\n",
      "\n",
      " elementwise multiplication\n",
      "[[ 5 12]\n",
      " [21 32]]\n",
      "\n",
      "matrix multiplication\n",
      "[[19 22]\n",
      " [43 50]]\n",
      "\n",
      " TRANSPOSE;\n",
      "[[1 3]\n",
      " [2 4]]\n"
     ]
    }
   ],
   "source": [
    "#numpy\n",
    "import numpy as np\n",
    "A=np.array([[1,2],[3,4]])\n",
    "B=np.array([[5,6],[7,8]])\n",
    "C=A+B\n",
    "D=A-B\n",
    "E=A*B\n",
    "F=np.dot(A,B)\n",
    "A_transpose = A.T\n",
    "print(\"Matrix A:\")\n",
    "print(A)\n",
    "print(\"Matrix B:\")\n",
    "print(B)\n",
    "print(\"addition:\")\n",
    "print(C)\n",
    "print (\"\\n substraction\")\n",
    "print(D)\n",
    "print(\"\\n elementwise multiplication\")\n",
    "print(E)\n",
    "print(\"\\nmatrix multiplication\")\n",
    "print(F)\n",
    "print(\"\\n TRANSPOSE;\")\n",
    "print(A_transpose)"
   ]
  },
  {
   "cell_type": "code",
   "execution_count": 7,
   "id": "03f3cbea",
   "metadata": {},
   "outputs": [
    {
     "name": "stdout",
     "output_type": "stream",
     "text": [
      "orginal matrix:\n",
      "[[1 2 3]\n",
      " [4 5 6]\n",
      " [7 8 9]]\n",
      "\n",
      " reconstructed matrix (with reduced dimentions):\n",
      "[[1. 2. 3.]\n",
      " [4. 5. 6.]\n",
      " [7. 8. 9.]]\n"
     ]
    }
   ],
   "source": [
    "#svd\n",
    "import numpy as np\n",
    "X = np.array([[1,2,3],[4,5,6],[7,8,9]])\n",
    "U,S,VT = np.linalg.svd(X)\n",
    "n_components = 2\n",
    "X_reconstructed = np.dot(U[:, :n_components],np.dot(np.diag(S[:n_components]),VT[:n_components,:]))\n",
    "print(\"orginal matrix:\")\n",
    "print(X)\n",
    "print(\"\\n reconstructed matrix (with reduced dimentions):\")\n",
    "print(X_reconstructed)"
   ]
  },
  {
   "cell_type": "code",
   "execution_count": null,
   "id": "a493eb27",
   "metadata": {},
   "outputs": [],
   "source": []
  }
 ],
 "metadata": {
  "kernelspec": {
   "display_name": "Python 3 (ipykernel)",
   "language": "python",
   "name": "python3"
  },
  "language_info": {
   "codemirror_mode": {
    "name": "ipython",
    "version": 3
   },
   "file_extension": ".py",
   "mimetype": "text/x-python",
   "name": "python",
   "nbconvert_exporter": "python",
   "pygments_lexer": "ipython3",
   "version": "3.11.5"
  }
 },
 "nbformat": 4,
 "nbformat_minor": 5
}
